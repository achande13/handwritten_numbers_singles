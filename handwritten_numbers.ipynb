{
  "nbformat": 4,
  "nbformat_minor": 0,
  "metadata": {
    "colab": {
      "name": "handwritten_numbers.ipynb",
      "provenance": []
    },
    "kernelspec": {
      "name": "python3",
      "display_name": "Python 3"
    }
  },
  "cells": [
    {
      "cell_type": "code",
      "metadata": {
        "id": "quaxZPfxeVJT",
        "colab_type": "code",
        "colab": {}
      },
      "source": [
        "#handwriting detecting system\n",
        "import tensorflow as tf\n",
        "from os import path, getcwd, chdir\n",
        "class myCallback(tf.keras.callbacks.Callback):\n",
        "    def on_epoch_end(self, epoch, logs={}):\n",
        "        if(logs.get('acc') > 0.99):\n",
        "          print(\"\\nReached 99% accuracy so cancelling training!\")\n",
        "          self.model.stop_training = True\n",
        "def train_mnist():\n",
        "    callbacks=myCallback()\n",
        "    mnist = tf.keras.datasets.mnist\n",
        "\n",
        "    (x_train, y_train),(x_test, y_test) = mnist.load_data(path=path)\n",
        "    #Normalization\n",
        "    x_train=x_train/255\n",
        "    x_test=x_test/255\n",
        "    model = tf.keras.models.Sequential([\n",
        "        tf.keras.layers.Flatten(input_shape=(28, 28)),\n",
        "        tf.keras.layers.Dense(512, activation=tf.nn.relu),\n",
        "        tf.keras.layers.Dense(10, activation=tf.nn.softmax)\n",
        "    ])\n",
        "\n",
        "    model.compile(optimizer='adam',\n",
        "                  loss='sparse_categorical_crossentropy',\n",
        "                  metrics=['accuracy'])\n",
        "    \n",
        "    # model fitting\n",
        "    history = model.fit(\n",
        "        x_train, y_train, epochs=10, callbacks=[callbacks]\n",
        "    )\n",
        "    \n",
        "    return history.epoch, history.history['acc'][-1]\n",
        "  train_mnist()"
      ],
      "execution_count": null,
      "outputs": []
    }
  ]
}